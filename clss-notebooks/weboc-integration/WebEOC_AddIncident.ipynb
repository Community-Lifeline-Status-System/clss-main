{
 "cells": [
  {
   "cell_type": "code",
   "execution_count": null,
   "metadata": {},
   "outputs": [],
   "source": []
  },
  {
   "cell_type": "markdown",
   "metadata": {},
   "source": [
    "#### Import requirements, define global variables"
   ]
  },
  {
   "cell_type": "code",
   "execution_count": 3,
   "metadata": {},
   "outputs": [],
   "source": [
    "# Import the required libraries\n",
    "from arcgis.gis import GIS\n",
    "import json\n",
    "import requests\n",
    "from datetime import datetime"
   ]
  },
  {
   "cell_type": "code",
   "execution_count": 4,
   "metadata": {},
   "outputs": [],
   "source": [
    "# Get username and password from config file \n",
    "with open('config.json') as config_file:\n",
    "    config = json.load(config_file)\n",
    "\n",
    "AGO_username = config['AGO_username']\n",
    "AGO_password = config['AGO_password']\n",
    "webeoc_username = config['webeoc_username']\n",
    "webeoc_password = config['webeoc_password']\n",
    "\n",
    "# Get the current date-time\n",
    "current_datetime = datetime.now().strftime(\"%Y-%m-%d_%H-%M-%S\")"
   ]
  },
  {
   "cell_type": "code",
   "execution_count": 5,
   "metadata": {},
   "outputs": [],
   "source": [
    "# Sign into the ArcGIS Online or Enterprise Portal\n",
    "gis = GIS(\"https://ghis.maps.arcgis.com/\", AGO_username, AGO_password)"
   ]
  },
  {
   "cell_type": "code",
   "execution_count": 15,
   "metadata": {},
   "outputs": [
    {
     "data": {
      "text/html": [
       "<div>\n",
       "<style scoped>\n",
       "    .dataframe tbody tr th:only-of-type {\n",
       "        vertical-align: middle;\n",
       "    }\n",
       "\n",
       "    .dataframe tbody tr th {\n",
       "        vertical-align: top;\n",
       "    }\n",
       "\n",
       "    .dataframe thead th {\n",
       "        text-align: right;\n",
       "    }\n",
       "</style>\n",
       "<table border=\"1\" class=\"dataframe\">\n",
       "  <thead>\n",
       "    <tr style=\"text-align: right;\">\n",
       "      <th></th>\n",
       "      <th>OBJECTID</th>\n",
       "      <th>GlobalID</th>\n",
       "      <th>HazardID</th>\n",
       "      <th>Name</th>\n",
       "      <th>Description</th>\n",
       "      <th>StartDate</th>\n",
       "      <th>EndDate</th>\n",
       "      <th>IsDeleted</th>\n",
       "      <th>Creator</th>\n",
       "      <th>CreationDate</th>\n",
       "      <th>Editor</th>\n",
       "      <th>EditDate</th>\n",
       "    </tr>\n",
       "  </thead>\n",
       "  <tbody>\n",
       "    <tr>\n",
       "      <th>0</th>\n",
       "      <td>1</td>\n",
       "      <td>e8db1093-90e7-4503-bd69-ab2118bd4073</td>\n",
       "      <td>d349d7b3-f251-41f7-a899-2f5dfffc88ef</td>\n",
       "      <td>Virginia Wildfire August 2024</td>\n",
       "      <td>August Wildfire</td>\n",
       "      <td>2024-08-07 00:00:00</td>\n",
       "      <td>NaT</td>\n",
       "      <td>&lt;NA&gt;</td>\n",
       "      <td>AadhikariGH</td>\n",
       "      <td>2024-08-07 17:35:34.809000015</td>\n",
       "      <td>AadhikariGH</td>\n",
       "      <td>2024-08-07 17:35:34.809000015</td>\n",
       "    </tr>\n",
       "    <tr>\n",
       "      <th>1</th>\n",
       "      <td>2</td>\n",
       "      <td>7ceb81f3-8c33-40b1-9150-c1f2b8bad868</td>\n",
       "      <td>d349d7b3-f251-41f7-a899-2f5dfffc88ef</td>\n",
       "      <td>Market Fire</td>\n",
       "      <td>test</td>\n",
       "      <td>2024-10-17 04:00:00</td>\n",
       "      <td>NaT</td>\n",
       "      <td>0</td>\n",
       "      <td>bntiamoahGH</td>\n",
       "      <td>2024-10-17 11:35:47.996999979</td>\n",
       "      <td>bntiamoahGH</td>\n",
       "      <td>2024-10-17 11:35:47.996999979</td>\n",
       "    </tr>\n",
       "    <tr>\n",
       "      <th>2</th>\n",
       "      <td>3</td>\n",
       "      <td>351d7d86-dfbc-468c-bb86-a4c8648f6fef</td>\n",
       "      <td>ed102c3e-1c36-461b-86cd-57b7ca9bba85</td>\n",
       "      <td>Locust Infestation</td>\n",
       "      <td>test</td>\n",
       "      <td>2024-10-17 04:00:00</td>\n",
       "      <td>NaT</td>\n",
       "      <td>0</td>\n",
       "      <td>bntiamoahGH</td>\n",
       "      <td>2024-10-17 11:37:15.862999916</td>\n",
       "      <td>bntiamoahGH</td>\n",
       "      <td>2024-10-17 11:37:15.862999916</td>\n",
       "    </tr>\n",
       "  </tbody>\n",
       "</table>\n",
       "</div>"
      ],
      "text/plain": [
       "   OBJECTID                              GlobalID  \\\n",
       "0         1  e8db1093-90e7-4503-bd69-ab2118bd4073   \n",
       "1         2  7ceb81f3-8c33-40b1-9150-c1f2b8bad868   \n",
       "2         3  351d7d86-dfbc-468c-bb86-a4c8648f6fef   \n",
       "\n",
       "                               HazardID                           Name  \\\n",
       "0  d349d7b3-f251-41f7-a899-2f5dfffc88ef  Virginia Wildfire August 2024   \n",
       "1  d349d7b3-f251-41f7-a899-2f5dfffc88ef                    Market Fire   \n",
       "2  ed102c3e-1c36-461b-86cd-57b7ca9bba85             Locust Infestation   \n",
       "\n",
       "       Description           StartDate EndDate  IsDeleted      Creator  \\\n",
       "0  August Wildfire 2024-08-07 00:00:00     NaT       <NA>  AadhikariGH   \n",
       "1             test 2024-10-17 04:00:00     NaT          0  bntiamoahGH   \n",
       "2             test 2024-10-17 04:00:00     NaT          0  bntiamoahGH   \n",
       "\n",
       "                   CreationDate       Editor                      EditDate  \n",
       "0 2024-08-07 17:35:34.809000015  AadhikariGH 2024-08-07 17:35:34.809000015  \n",
       "1 2024-10-17 11:35:47.996999979  bntiamoahGH 2024-10-17 11:35:47.996999979  \n",
       "2 2024-10-17 11:37:15.862999916  bntiamoahGH 2024-10-17 11:37:15.862999916  "
      ]
     },
     "execution_count": 15,
     "metadata": {},
     "output_type": "execute_result"
    }
   ],
   "source": [
    "# Get the feature layer item\n",
    "feature_service = gis.content.get('4cec9a93384543e0a676e3ad892362bb')\n",
    "\n",
    "# Access the feature layer\n",
    "incidentTbl = feature_service.tables[2]\n",
    "\n",
    "# Convert the incident table to a dataframe\n",
    "incident_df = incidentTbl.query(as_df=True)\n",
    "incident_df.head()"
   ]
  },
  {
   "cell_type": "code",
   "execution_count": 35,
   "metadata": {},
   "outputs": [],
   "source": [
    "incidentRecord = json.loads(incident_df.head(1).to_json(orient='records'))\n",
    "name = incidentRecord[0]['Name']\n",
    "description = incidentRecord[0]['Description']\n",
    "creationDate = incidentRecord[0]['StartDate']"
   ]
  },
  {
   "cell_type": "code",
   "execution_count": 38,
   "metadata": {},
   "outputs": [],
   "source": []
  },
  {
   "cell_type": "code",
   "execution_count": 45,
   "metadata": {},
   "outputs": [],
   "source": [
    "# Create the session to be utilized by the REST API.\n",
    "base_url = 'https://trial1.demo.webeocasp.com/trial1/api/rest.svc'\n",
    "\n",
    "# Set Default Incident and Position\n",
    "position = \"CMD Incident Commander\"\n",
    "incident = \"Trial\"\n",
    "\n",
    "def create_session(base_url):\n",
    "\turl = f\"{base_url}/sessions\"\n",
    "\n",
    "\tpayload = json.dumps({\n",
    "\t\t\"username\": webeoc_username,\n",
    "\t\t\"password\": webeoc_password,\n",
    "\t\t\"position\": position,\n",
    "\t\t\"incident\": incident\n",
    "\t})\n",
    "\theaders = {\n",
    "\t\t'Content-Type': 'application/json',\n",
    "\t}\n",
    "\tsession = requests.Session()\n",
    "\tsession.post(url, headers=headers, data=payload)\n",
    "\n",
    "\treturn session\n",
    "\n",
    "# End the session.\n",
    "def close_session(session):\n",
    "  url = f\"{base_url}/sessions\"\n",
    "  session.delete(url)"
   ]
  },
  {
   "cell_type": "code",
   "execution_count": 46,
   "metadata": {},
   "outputs": [],
   "source": [
    "# Create a POST Request to create a record using the provided details.\n",
    "def create_board_record(base_url, session, board_name, inputviewname, record_data):\n",
    "\tcreate_record_url = f\"{base_url}/board/{board_name}/input/{inputviewname}\"\n",
    "\tprint (create_record_url)\n",
    "\tpayload = {'data': json.dumps(record_data)}\n",
    "\n",
    "\tresponse = session.post(create_record_url, json=payload)\n",
    "\n",
    "\tif response.status_code == 201:\n",
    "\t\t# Record created successfully, return the response\n",
    "\t\treturn response.json()\n",
    "\telse:\n",
    "\t\t# Record creation failed, raise an exception with the error message\n",
    "\t\tresponse.raise_for_status()"
   ]
  },
  {
   "cell_type": "code",
   "execution_count": 47,
   "metadata": {},
   "outputs": [
    {
     "name": "stdout",
     "output_type": "stream",
     "text": [
      "https://trial1.demo.webeocasp.com/trial1/api/rest.svc/board/Incident Creator/input/Incident Input\n",
      "Record created successfully: None\n"
     ]
    }
   ],
   "source": [
    "#Map data from CLSS Incident to WebEOC Board Record\n",
    "\n",
    "###### Example usage - Event Reporting: Sig Event\n",
    "board_name = 'Incident Creator'\n",
    "view_name = 'Incident Input'\n",
    "# ['dataid', 'incidentid', 'userid', 'positionid', 'entrydate', 'subscribername', 'prevdataid', 'globalid', 'review_number', 'incident_activationSummary', 'incident_agency', 'incident_comments', 'incident_location', 'incident_point_of_contact', 'incident_contact_number', 'incident_isActive', 'webeoc_incident_name', 'incident_creationDate', 'incident_eventType', 'incident_eventTypeOther', 'incident_activationLevel', 'incident_activationType', 'incident_createdBy_user', 'incident_createdBy_position', 'location']\n",
    "\n",
    "record_data = {\n",
    "\t'webeoc_incident_name': name,\n",
    "    'incident_comments': description,\n",
    "    'incident_creationDate': creationDate,\n",
    "    'incident_createdBy_user': webeoc_username,\n",
    "    'incident_createdBy_position': position\n",
    "}\n",
    "\n",
    "def main():\n",
    "\t\n",
    "\tsession = create_session(base_url)\n",
    "\n",
    "\ttry:\n",
    "\t\tresponse = create_board_record(base_url, session, board_name, view_name, record_data)\n",
    "\t\tprint(\"Record created successfully:\", response)\n",
    "\texcept requests.exceptions.RequestException as e:\n",
    "\t\tprint(\"Failed to create record:\", e)\n",
    "\n",
    "\tclose_session(session)\n",
    "\n",
    "main()"
   ]
  },
  {
   "cell_type": "code",
   "execution_count": null,
   "metadata": {},
   "outputs": [],
   "source": []
  }
 ],
 "metadata": {
  "kernelspec": {
   "display_name": "Python 3",
   "language": "python",
   "name": "python3"
  },
  "language_info": {
   "codemirror_mode": {
    "name": "ipython",
    "version": 3
   },
   "file_extension": ".py",
   "mimetype": "text/x-python",
   "name": "python",
   "nbconvert_exporter": "python",
   "pygments_lexer": "ipython3",
   "version": "3.11.8"
  }
 },
 "nbformat": 4,
 "nbformat_minor": 2
}
