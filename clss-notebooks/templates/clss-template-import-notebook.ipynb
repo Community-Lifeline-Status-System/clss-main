{
 "cells": [
  {
   "cell_type": "markdown",
   "metadata": {},
   "source": [
    "# CLSS Template Import Notebook\n",
    "\n",
    "This notebook provides a guided workflow for importing CLSS templates and related configuration data into ArcGIS Online feature services. Use this process to update or initialize your CLSS feature services with the latest templates, ensuring your lifeline assessments and configurations are current and standardized.\n",
    "\n",
    "## What does this notebook do?\n",
    "\n",
    "- **Imports CLSS templates** from CSV files exported by the companion 'template-export' notebook.\n",
    "- **Maps and uploads template data** to a selected ArcGIS Online feature service table.\n",
    "- **Automates the creation of structured lifeline/component/indicator JSON** for use in CLSS workflows.\n",
    "\n",
    "---\n",
    "\n",
    "## Prerequisites\n",
    "\n",
    "Before running this notebook, please ensure:\n",
    "\n",
    "1. **Template Export:**  \n",
    "   Export templates from CSV using the Export Template process (see user guide). Import templates to a working directory (e.g., `/home/export` folder).\n",
    "\n",
    "\n",
    "2. **Feature Service Access:**  \n",
    "   You have access to the target CLSS ArcGIS Online feature service and know its item ID.  You will also need to run this notebook with sufficient priviliges to add/update featur service data. \n",
    "\n",
    "---\n",
    "\n",
    "## Steps\n",
    "\n",
    "1. **Select Feature Service:**  \n",
    "   Set the `selected_fs_id` variable to the item ID of your target CLSS feature service.\n",
    "\n",
    "2. **Set CSV File Path:**  \n",
    "   Update the `csv_file_path` variable to point to your exported template CSV.\n",
    "\n",
    "3. **Run the Notebook:**  \n",
    "   The notebook will authenticate, load your template data, generate the required JSON, and upload it to the feature service.\n",
    "\n",
    "---\n"
   ]
  },
  {
   "cell_type": "markdown",
   "metadata": {},
   "source": [
    "#### Run this cell to connect to your GIS and get started:"
   ]
  },
  {
   "cell_type": "code",
   "execution_count": 25,
   "metadata": {},
   "outputs": [
    {
     "name": "stderr",
     "output_type": "stream",
     "text": [
      "You are logged on as cusec_hub with an administrator role, proceed with caution.\n"
     ]
    }
   ],
   "source": [
    "from arcgis.gis import GIS\n",
    "import pandas as pd\n",
    "from io import BytesIO\n",
    "import json\n",
    "\n",
    "gis = GIS(\"home\")"
   ]
  },
  {
   "cell_type": "code",
   "execution_count": 26,
   "metadata": {},
   "outputs": [],
   "source": [
    "# ✅ USER: Set your target FS and CSV file path here\n",
    "selected_fs_id = '99e2deda90c04ca7a7ab95f09113783c'  # add the target CLSS Feature Service ID here\n",
    "csv_file_path = '/arcgis/home/templates/template_name.csv'  # <- Update to your local path and template csv file\n"
   ]
  },
  {
   "cell_type": "markdown",
   "metadata": {},
   "source": [
    "#### Now you are ready to start!"
   ]
  },
  {
   "cell_type": "code",
   "execution_count": 27,
   "metadata": {},
   "outputs": [],
   "source": [
    "# Initialize GIS (make sure `gis` is defined earlier or authenticate here)\n",
    "fs_item = gis.content.get(selected_fs_id)\n",
    "target_template_table = fs_item.tables[9]  # assumes sublayer 12, which is in position 9 in the feature service\n"
   ]
  },
  {
   "cell_type": "code",
   "execution_count": 30,
   "metadata": {},
   "outputs": [
    {
     "name": "stdout",
     "output_type": "stream",
     "text": [
      "✅ Loaded CSV with 215 indicator rows\n",
      "✅ Successfully added 1 template to: CLSS_FeatureService_sandbox\n"
     ]
    }
   ],
   "source": [
    "# Load the CSV\n",
    "try:\n",
    "    template_indicator_df = pd.read_csv(csv_file_path)\n",
    "    print(f\"✅ Loaded CSV with {len(template_indicator_df)} indicator rows\")\n",
    "except Exception as e:\n",
    "    raise Exception(f\"❌ Error reading CSV: {e}\")\n",
    "\n",
    "# Function to generate structured nested indicator JSON\n",
    "def return_indicator_json(template_indicator_df):\n",
    "    template_json = []\n",
    "    for lifeline, lifeline_group in template_indicator_df.groupby('Lifeline'):\n",
    "        lifeline_dict = {\n",
    "            \"name\": lifeline,\n",
    "            \"title\": lifeline,\n",
    "            \"componentTemplates\": []\n",
    "        }\n",
    "        for component, component_group in lifeline_group.groupby('Component'):\n",
    "            component_dict = {\n",
    "                \"name\": component,\n",
    "                \"title\": component,\n",
    "                \"indicators\": []\n",
    "            }\n",
    "            for _, row in component_group.iterrows():\n",
    "                indicator_dict = {\n",
    "                    \"name\": row['Indicator'],\n",
    "                    \"templateName\": row['TemplateName'],\n",
    "                    \"lifelineName\": lifeline,\n",
    "                    \"componentName\": component,\n",
    "                    \"weight\": row['Weight']\n",
    "                }\n",
    "                component_dict[\"indicators\"].append(indicator_dict)\n",
    "            lifeline_dict[\"componentTemplates\"].append(component_dict)\n",
    "        template_json.append(lifeline_dict)\n",
    "    return template_json\n",
    "\n",
    "# Function to add template to FS\n",
    "def add_to_feature_service(template_info_df, template_json):\n",
    "    # Get the first template metadata record\n",
    "    row = template_info_df.iloc[0]\n",
    "\n",
    "    name = row['TemplateName']\n",
    "    description = row['TemplateDescription']\n",
    "    status = row.get('Status', 1)  # Default to 1 (Published) if missing\n",
    "    isDeleted = 0  # Default to 0 (not deleted)\n",
    "    \n",
    "    try:\n",
    "        status = int(status)\n",
    "    except:\n",
    "        status = 1\n",
    "\n",
    "    # Construct one feature with full JSON content\n",
    "    feature = {\n",
    "        \"attributes\": {\n",
    "            \"Name\": name,\n",
    "            \"Description\": description,\n",
    "            \"Status\": status,\n",
    "            \"IsDeleted\": isDeleted,\n",
    "            \"Content\": json.dumps(template_json, ensure_ascii=True)\n",
    "            # \"Content\": json.dumps(template_json, ensure_ascii=True).replace('\"', '\\\\\"')\n",
    "        }\n",
    "    }\n",
    "\n",
    "    try:\n",
    "        response = target_template_table.edit_features(adds=[feature])\n",
    "\n",
    "        # Check for success\n",
    "        if not response.get(\"addResults\", [{}])[0].get(\"success\", False):\n",
    "            error = response['addResults'][0].get(\"error\", {}).get(\"description\", \"Unknown error\")\n",
    "            print(f\"❌ Upload failed: {error}\")\n",
    "        else:\n",
    "            print(f\"✅ Successfully added 1 template to: {target_feature_service.title}\")\n",
    "\n",
    "    except Exception as e:\n",
    "        print(f\"❌ Exception during upload: {e}\")\n",
    "\n",
    "\n",
    "# Run the import\n",
    "template_json = return_indicator_json(template_indicator_df)\n",
    "add_to_feature_service(template_indicator_df, template_json)"
   ]
  },
  {
   "cell_type": "code",
   "execution_count": null,
   "metadata": {},
   "outputs": [],
   "source": []
  }
 ],
 "metadata": {
  "esriNotebookRuntime": {
   "notebookRuntimeName": "ArcGIS Notebook Python 3 Standard",
   "notebookRuntimeVersion": "12.0"
  },
  "kernelspec": {
   "display_name": "Python 3 (ipykernel)",
   "language": "python",
   "name": "python3"
  },
  "language_info": {
   "codemirror_mode": {
    "name": "ipython",
    "version": 3
   },
   "file_extension": ".py",
   "mimetype": "text/x-python",
   "name": "python",
   "nbconvert_exporter": "python",
   "pygments_lexer": "ipython3",
   "version": "3.11.11"
  }
 },
 "nbformat": 4,
 "nbformat_minor": 4
}
