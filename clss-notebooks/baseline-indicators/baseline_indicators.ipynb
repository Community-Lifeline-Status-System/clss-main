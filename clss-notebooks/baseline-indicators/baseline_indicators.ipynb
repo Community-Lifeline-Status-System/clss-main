{
 "cells": [
  {
   "cell_type": "markdown",
   "metadata": {},
   "source": [
    "# Baseline Indicator Update Process\n",
    "This notebook is designed to update the CLSS Baseline Indicators in the Dev, Test, and Demo feature services using the data from the `CLSS Baseline Indicators Table.xlsx` file. Additionally, it updates the `SystemTemplate.json` file in the GitHub repository with the updated indicators.\n",
    "\n",
    "#### Prerequisites\n",
    "Before running this notebook, please ensure the following:\n",
    "1. **Upload Required Files**: Upload the `CLSS Baseline Indicators Table.xlsx` file to the `/home` directory in ArcGIS Online/Notebook.\n",
    "2. **GitHub Personal Access Token**: Generate a GitHub Personal Access Token with the necessary permissions (e.g., `repo` scope) and update the token in the notebook where indicated.\n",
    "3. **Configuration File**: Ensure that a `config.json` file is present in the `/home` directory. This file should contain your ArcGIS Online (AGO) username and password, as well as the github token in the following format:\n",
    "     ```json\n",
    "     {\n",
    "       \"AGO_username\": \"your_username\",\n",
    "       \"AGO_password\": \"your_password\",\n",
    "       \"GH_token\": \"your token\"\n",
    "     }\n",
    "     ```\n",
    "\n",
    "#### Steps\n",
    "Follow the steps outlined above to ensure all prerequisites are met. Then, run the cells in the notebook sequentially to update the baseline indicators in the feature services and the GitHub repository.\n",
    "1. **Load and Validate Files**: The notebook will check for the presence of the `CLSS Baseline Indicators Table.xlsx` file and the `config.json` file in the `/home` directory.\n",
    "2. **Authenticate with ArcGIS Online**: The notebook will authenticate with ArcGIS Online using the credentials provided in the `config.json` file.\n",
    "3. **Select Feature Service**: Use the dropdown menu to select the target CLSS feature service for updating the baseline indicators.\n",
    "4. **Update Feature Service**: The notebook will update the selected feature service with the new baseline indicators.\n",
    "5. **Update GitHub Repository**: The notebook will update the `SystemTemplate.json` file in the GitHub repository with the new baseline indicators.\n",
    "\n",
    "#### Notes\n",
    "- GitHub dependencies are not included in the core packages of ArcGIS Notebooks, so they are commented out. The notebook uses the `requests` module to interact with the GitHub API.\n",
    "- Ensure that the `CLSS Baseline Indicators Table.xlsx` file is correctly formatted and contains the necessary data for updating the feature services and the GitHub repository.\n",
    "\n",
    "#### Links\n",
    "- [DevOps Story #1779](https://dev.azure.com/ghinternational/GHIS/_workitems/edit/1779)\n",
    "- [GitHub Repository: clss-deployment](https://github.com/GH-International/clss-deployment/blob/main/assets/SystemTemplate.json)\n"
   ]
  },
  {
   "cell_type": "code",
   "execution_count": null,
   "metadata": {},
   "outputs": [],
   "source": [
    "# Standard library imports\n",
    "import os\n",
    "import json\n",
    "import base64\n",
    "\n",
    "# Third-party library imports\n",
    "import requests\n",
    "import pandas as pd\n",
    "from arcgis.gis import GIS\n",
    "import ipywidgets as widgets"
   ]
  },
  {
   "cell_type": "code",
   "execution_count": null,
   "metadata": {},
   "outputs": [],
   "source": [
    "\n",
    "# Check if /home folder exists, if not create it\n",
    "home_dir = 'home'\n",
    "if not os.path.exists(home_dir):\n",
    "    os.makedirs(home_dir)\n",
    "\n",
    "# Get username and password from config file\n",
    "config_path = f'{home_dir}/config.json'\n",
    "if not os.path.isfile(config_path):\n",
    "    raise FileNotFoundError(f\"Config file '{config_path}' does not exist. Please upload 'config.json' to the home directory.\")\n",
    "\n",
    "with open(config_path) as config_file:\n",
    "    config = json.load(config_file)\n",
    "    \n",
    "GH_token = config.get('github-token')\n",
    "\n",
    "# Local path to CLSS Baseline Indicators Table\n",
    "file_path = f'{home_dir}/CLSS Baseline Indicators Table.xlsx'\n",
    "\n",
    "# Check if the file exists in the home directory\n",
    "if not os.path.isfile(file_path):\n",
    "    raise FileNotFoundError(f\"File '{file_path}' does not exist. Please upload 'CLSS Baseline Indicators Table.xlsx' to the home directory.\")\n",
    "\n",
    "# Authenticate with ArcGIS Online\n",
    "gis = GIS('home')\n",
    "\n",
    "# This section not needed if running in ArcGIS ONline\n",
    "# if not AGO_username or not AGO_password:\n",
    "#     raise ValueError(\"AGO_username and AGO_password must be provided in the config.json file.\")\n",
    "# AGO_username = config.get('AGO_username')\n",
    "# AGO_password = config.get('AGO_password')\n",
    "# try:\n",
    "#     gis = GIS(\"https://ghis.maps.arcgis.com/\", AGO_username, AGO_password)\n",
    "# except Exception as e:\n",
    "#     raise ConnectionError(f\"Failed to authenticate with ArcGIS Online: {e}\")\n",
    "\n",
    "# These are the CLSS ArcGIS online Service Endpoints\n",
    "clssServices = [\n",
    "    ('None', 'None'),  # Example ID for Dev\n",
    "    ('CLSS EE TEST', '980b62dffcb94c10bff227e9a8a43fce'),\n",
    "    ('CLSS Dev', '4cec9a93384543e0a676e3ad892362bb'),\n",
    "    ('CLSS Test', 'f726c24e77d5442c9a9f456eec62ae5d'),\n",
    "    ('CLSS Demo', 'c5aea531e01d49358b73123e334b4c0a')\n",
    "]"
   ]
  },
  {
   "cell_type": "code",
   "execution_count": 51,
   "metadata": {},
   "outputs": [],
   "source": [
    "# Read the Excel file into a DataFrame\n",
    "def loadFile(file_path):\n",
    "    return pd.read_excel(file_path)\n"
   ]
  },
  {
   "cell_type": "code",
   "execution_count": 52,
   "metadata": {},
   "outputs": [],
   "source": [
    "baseline_template = loadFile(file_path)\n",
    "\n",
    "# Generate the JSON structure\n",
    "content_json = []\n",
    "for lifeline_name, lifeline_group in baseline_template.groupby(\"Lifeline\"):\n",
    "    lifeline_entry = {\n",
    "        # \"id\": generate_uuid(),\n",
    "        \"name\": lifeline_name,\n",
    "        \"title\": lifeline_name,\n",
    "        \"componentTemplates\": []\n",
    "    }\n",
    "    \n",
    "    for component_name, component_group in lifeline_group.groupby(\"Component\"):\n",
    "        component_entry = {\n",
    "            # \"id\": generate_uuid(),\n",
    "            \"name\": component_name,\n",
    "            \"title\": component_name,\n",
    "            \"indicators\": []\n",
    "        }\n",
    "        \n",
    "        for _, row in component_group.iterrows():\n",
    "            indicator_entry = {\n",
    "                # \"id\": generate_uuid(),\n",
    "                \"name\": row[\"Indicator\"],\n",
    "                \"templateName\": \"CLSS System Baseline\",\n",
    "                \"isNew\": False,\n",
    "                \"isBeingEdited\": False,\n",
    "                \"lifelineName\": lifeline_name,\n",
    "                \"componentName\": component_name,\n",
    "                # \"componentId\": component_entry[\"id\"],\n",
    "                # \"templateId\": generate_uuid(),\n",
    "                \"weight\": 1\n",
    "            }\n",
    "            component_entry[\"indicators\"].append(indicator_entry)\n",
    "        \n",
    "        lifeline_entry[\"componentTemplates\"].append(component_entry)\n",
    "    \n",
    "    content_json.append(lifeline_entry)\n",
    "\n",
    "# Convert to JSON format and print or save\n",
    "json_output = json.dumps(content_json, indent=4)\n",
    "# print(json_output)\n"
   ]
  },
  {
   "cell_type": "code",
   "execution_count": null,
   "metadata": {},
   "outputs": [],
   "source": [
    "# Function to handle the feature services selection\n",
    "def on_service_selected(change):\n",
    "    global target_template_table_df,target_template_table\n",
    "    selected_service_id = change['new']\n",
    "    selected_feature_service = gis.content.get(selected_service_id)\n",
    "    target_template_table = selected_feature_service.tables[9]\n",
    "    print(f\"Destination FS: {selected_feature_service.title}\")\n",
    "    target_template_table_df = target_template_table.query(where=\"Name = 'CLSS System Baseline'\").sdf\n",
    "    # print(target_template_table_df)\n",
    "    return target_template_table_df, target_template_table\n",
    "\n",
    "# Create a dropdown widget for selecting the CLSS feature service\n",
    "service_choice = widgets.Dropdown(\n",
    "    options=clssServices,\n",
    "    description='Select FS:',\n",
    "    disabled=False,\n",
    ")\n",
    "\n",
    "# Display the dropdown widget & attach the handler\n",
    "display(service_choice)\n",
    "service_choice.observe(on_service_selected, names='value')\n"
   ]
  },
  {
   "cell_type": "markdown",
   "metadata": {},
   "source": [
    "## Update CLSS Feature Service: Template Table"
   ]
  },
  {
   "cell_type": "code",
   "execution_count": null,
   "metadata": {},
   "outputs": [
    {
     "name": "stdout",
     "output_type": "stream",
     "text": [
      "Response {'addResults': [], 'updateResults': [{'objectId': 23, 'uniqueId': 23, 'globalId': None, 'success': True}], 'deleteResults': []}\n"
     ]
    }
   ],
   "source": [
    "# Create the 'update features' JSON object\n",
    "update_features_json = [{\n",
    "    \"attributes\": {\n",
    "        \"OBJECTID\": target_template_table_df.at[0, \"OBJECTID\"],\n",
    "        \"Content\": json.dumps(content_json, indent=4)\n",
    "    }\n",
    "}]\n",
    "\n",
    "# Apply the edits to the feature service using the pre-defined update_features_json\n",
    "response = target_template_table.edit_features(updates=update_features_json)\n",
    "\n",
    "print(\"Response\", response)"
   ]
  },
  {
   "cell_type": "markdown",
   "metadata": {},
   "source": [
    "## Update Github Repo"
   ]
  },
  {
   "cell_type": "code",
   "execution_count": null,
   "metadata": {},
   "outputs": [
    {
     "name": "stdout",
     "output_type": "stream",
     "text": [
      "File updated successfully.\n"
     ]
    }
   ],
   "source": [
    "### update github repo with requests module\n",
    "\n",
    "# GitHub repository details\n",
    "owner = 'GH-International'\n",
    "repo = 'clss-deployment'\n",
    "branch = 'main'  # or the branch you want to update\n",
    "file_path = 'assets/SystemTemplate-test.json'\n",
    "commit_message = 'Update from SharePoint Template via api'\n",
    "\n",
    "# Encode the content to base64\n",
    "encoded_content = base64.b64encode(baseline_template_json.encode()).decode()\n",
    "\n",
    "# GitHub API URL to get the file's SHA\n",
    "url = f'https://api.github.com/repos/{owner}/{repo}/contents/{file_path}'\n",
    "\n",
    "# Headers for authentication\n",
    "headers = {\n",
    "    'Authorization': f'token {GH_token}',\n",
    "    'Accept': 'application/vnd.github.v3+json'\n",
    "}\n",
    "\n",
    "# Get the file's SHA\n",
    "response = requests.get(url, headers=headers)\n",
    "response_data = response.json()\n",
    "file_sha = response_data['sha']\n",
    "\n",
    "# Prepare the data for the update request\n",
    "data = {\n",
    "    'message': commit_message,\n",
    "    'content': encoded_content,\n",
    "    'sha': file_sha,\n",
    "    'branch': branch\n",
    "}\n",
    "\n",
    "# Make the PUT request to update the file\n",
    "response = requests.put(url, headers=headers, data=json.dumps(data))\n",
    "\n",
    "# Check the response\n",
    "if response.status_code == 200:\n",
    "    print('File updated successfully.')\n",
    "else:\n",
    "    print(f'Failed to update file: {response.status_code}')\n",
    "    print(response.json())"
   ]
  }
 ],
 "metadata": {
  "kernelspec": {
   "display_name": "clss_dev",
   "language": "python",
   "name": "python3"
  },
  "language_info": {
   "codemirror_mode": {
    "name": "ipython",
    "version": 3
   },
   "file_extension": ".py",
   "mimetype": "text/x-python",
   "name": "python",
   "nbconvert_exporter": "python",
   "pygments_lexer": "ipython3",
   "version": "3.11.10"
  }
 },
 "nbformat": 4,
 "nbformat_minor": 2
}
