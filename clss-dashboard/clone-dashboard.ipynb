{
 "cells": [
  {
   "cell_type": "markdown",
   "id": "12d54cdc",
   "metadata": {},
   "source": [
    "# Cloning and Updating CLSS Dashboard References in ArcGIS Online\n",
    "\n",
    "This notebook provides a process to clone the \"Dev-CLSS-Dashboard\" from one ArcGIS Online organization to another. During the cloning process, all references to the original CLSS Feature Service are updated to point to a new target feature service. This workflow is useful for migrating dashboards between environments or organizations while ensuring data source references remain accurate."
   ]
  },
  {
   "cell_type": "code",
   "execution_count": null,
   "id": "484be0c7",
   "metadata": {},
   "outputs": [],
   "source": [
    "from arcgis.gis import GIS\n",
    "import json\n",
    "import re\n",
    "import os\n",
    "from dotenv import load_dotenv\n"
   ]
  },
  {
   "cell_type": "markdown",
   "id": "52bd63fc",
   "metadata": {},
   "source": [
    "### --- SETUP: First configure key parameters and establish connection to source/target Orgs"
   ]
  },
  {
   "cell_type": "code",
   "execution_count": null,
   "id": "fdfa4bf5",
   "metadata": {},
   "outputs": [],
   "source": [
    "# configure an .env file with the following variables:\n",
    "# SRC_USERNAME, SRC_PASSWORD, TRG_USERNAME, TRG_PASSWORD\n",
    "load_dotenv()\n",
    "SRC_USERNAME = os.getenv(\"SRC_USERNAME\")\n",
    "SRC_PASSWORD = os.getenv(\"SRC_PASSWORD\")\n",
    "TRG_USERNAME = os.getenv(\"TRG_USERNAME\")\n",
    "TRG_PASSWORD = os.getenv(\"TRG_PASSWORD\")\n",
    "\n",
    "# --- CONFIGURATION ---\n",
    "source_org = GIS(\"https://ghis.maps.arcgis.com\", SRC_USERNAME, SRC_PASSWORD)\n",
    "target_org = GIS(\"https://cusec-hub.maps.arcgis.com\", TRG_USERNAME, TRG_PASSWORD)\n",
    "\n",
    "# IDs and URLs\n",
    "source_dashboard_id = \"6d275452758949099bc70fd9718a9862\"\n",
    "source_feature_id = \"649091ebf4af4233902e975798d59ef9\"\n",
    "target_feature_id = \"ee81054b84fa436bb04860d36845d1fd\"\n",
    "\n",
    "# Optional: use URLs if referenced by URL\n",
    "source_feature_url = f\"https://services3.arcgis.com/j2a3SeWN04oskFYa/arcgis/rest/services/CLSS_FeatureService_Demo/FeatureServer\"\n",
    "target_feature_url = f\"https://services3.arcgis.com/j2a3SeWN04oskFYa/arcgis/rest/services/CLSS_FeatureService_Dev/FeatureServer\"\n"
   ]
  },
  {
   "cell_type": "markdown",
   "id": "247e2fca",
   "metadata": {},
   "source": [
    "### --- STEP 1: Fetch the source dashboard ---"
   ]
  },
  {
   "cell_type": "code",
   "execution_count": 12,
   "id": "1a335e2e",
   "metadata": {},
   "outputs": [],
   "source": [
    "source_dashboard = source_org.content.get(source_dashboard_id)\n",
    "dashboard_data = source_dashboard.get_data()\n",
    "dashboard_text = dashboard_data.decode('utf-8') if isinstance(dashboard_data, bytes) else json.dumps(dashboard_data)"
   ]
  },
  {
   "cell_type": "markdown",
   "id": "4916dac9",
   "metadata": {},
   "source": [
    "### --- STEP 2: Replace feature service references ---"
   ]
  },
  {
   "cell_type": "code",
   "execution_count": null,
   "id": "7efa7647",
   "metadata": {},
   "outputs": [
    {
     "name": "stdout",
     "output_type": "stream",
     "text": [
      "References to feature service replaced.\n"
     ]
    }
   ],
   "source": [
    "# Replace by Item ID (used internally for dataSources, layer references, etc.)\n",
    "dashboard_text = re.sub(source_feature_id, target_feature_id, dashboard_text)\n",
    "\n",
    "# Replace by URL (used in some layout or config blocks)\n",
    "dashboard_text = dashboard_text.replace(source_feature_url, target_feature_url)\n",
    "\n",
    "print(f\"References to feature service replaced.\")"
   ]
  },
  {
   "cell_type": "markdown",
   "id": "a37cf645",
   "metadata": {},
   "source": [
    "### --- STEP 3: Create the dashboard in the target org ---"
   ]
  },
  {
   "cell_type": "code",
   "execution_count": null,
   "id": "6a18a932",
   "metadata": {},
   "outputs": [
    {
     "name": "stderr",
     "output_type": "stream",
     "text": [
      "c:\\Code\\clss\\.venv\\Lib\\site-packages\\IPython\\core\\interactiveshell.py:3577: DeprecatedWarning: add is deprecated as of 2.3.0 and has been removed in 3.0.0. Use `Folder.add()` instead.\n",
      "  exec(code_obj, self.user_global_ns, self.user_ns)\n"
     ]
    },
    {
     "name": "stdout",
     "output_type": "stream",
     "text": [
      "Dashboard cloned to target org: Dev-CLSS-Dashboard (Cloned) (ID: 90d46a8565d94828b5a4a26e61ff9f8c)\n"
     ]
    }
   ],
   "source": [
    "# Copy item properties\n",
    "item_properties = {\n",
    "    'title': source_dashboard.title + \" (Cloned)\",\n",
    "    'type': 'Dashboard',\n",
    "    'tags': source_dashboard.tags,\n",
    "    'snippet': source_dashboard.snippet,\n",
    "    'text': dashboard_text \n",
    "}\n",
    "\n",
    "# Add the cloned dashboard\n",
    "cloned_dashboard = target_org.content.add(item_properties)\n",
    "print(f\"Dashboard cloned to target org: {cloned_dashboard.title} (ID: {cloned_dashboard.id})\")\n",
    "\n",
    "# Share as needed\n",
    "# cloned_dashboard.share(org=True)  # or share(everyone=True)\n"
   ]
  }
 ],
 "metadata": {
  "kernelspec": {
   "display_name": ".venv (3.11.9)",
   "language": "python",
   "name": "python3"
  },
  "language_info": {
   "codemirror_mode": {
    "name": "ipython",
    "version": 3
   },
   "file_extension": ".py",
   "mimetype": "text/x-python",
   "name": "python",
   "nbconvert_exporter": "python",
   "pygments_lexer": "ipython3",
   "version": "3.11.9"
  }
 },
 "nbformat": 4,
 "nbformat_minor": 5
}
